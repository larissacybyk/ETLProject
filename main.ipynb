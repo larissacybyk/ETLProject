{
 "cells": [
  {
   "cell_type": "code",
   "execution_count": 1,
   "metadata": {},
   "outputs": [
    {
     "name": "stderr",
     "output_type": "stream",
     "text": [
      "C:\\Users\\l3n3c\\AppData\\Local\\Temp\\ipykernel_47876\\4056139722.py:1: DeprecationWarning: \n",
      "Pyarrow will become a required dependency of pandas in the next major release of pandas (pandas 3.0),\n",
      "(to allow more performant data types, such as the Arrow string type, and better interoperability with other libraries)\n",
      "but was not found to be installed on your system.\n",
      "If this would cause problems for you,\n",
      "please provide us feedback at https://github.com/pandas-dev/pandas/issues/54466\n",
      "        \n",
      "  import pandas as pd\n"
     ]
    }
   ],
   "source": [
    "import pandas as pd\n",
    "import csv"
   ]
  },
  {
   "cell_type": "code",
   "execution_count": 1,
   "metadata": {},
   "outputs": [],
   "source": [
    "#creation of SQLite database\n",
    "import sqlite3\n",
    "\n",
    "conn = sqlite3.connect('etl_project.db')\n",
    "cursor = conn.cursor()"
   ]
  },
  {
   "cell_type": "code",
   "execution_count": 13,
   "metadata": {},
   "outputs": [
    {
     "data": {
      "text/plain": [
       "<sqlite3.Cursor at 0x24ad4076bc0>"
      ]
     },
     "execution_count": 13,
     "metadata": {},
     "output_type": "execute_result"
    }
   ],
   "source": [
    "# creating tables\n",
    "cursor.execute(\"CREATE TABLE IF NOT EXISTS songs (song text primary key, day integer, month integer, year integer, streams integer)\")\n",
    "\n",
    "cursor.execute(\"CREATE TABLE IF NOT EXISTS artists_songs (artist_name text not null, song text primary key, CONSTRAINT fk_song FOREIGN KEY (song) REFERENCES songs(song))\")\n",
    "cursor.execute(\"CREATE TABLE IF NOT EXISTS lyrics (song text primary key, lyrics text not null, CONSTRAINT fk_song FOREIGN KEY (song) REFERENCES songs(song))\")\n",
    "cursor.execute(\"CREATE TABLE IF NOT EXISTS charts (song text primary key, spotify integer, apple integer, deezer integer, shazam integer, CONSTRAINT fk_song FOREIGN KEY (song) REFERENCES songs(song))\")\n",
    "cursor.execute(\"CREATE TABLE IF NOT EXISTS concerts (artist_name text, event text primary key, location text, venue text, CONSTRAINT fk_artist FOREIGN KEY (artist_name) REFERENCES artist_songs(artist_name))\")"
   ]
  },
  {
   "cell_type": "code",
   "execution_count": 21,
   "metadata": {},
   "outputs": [],
   "source": [
    "# extracting from csv 1\n",
    "# csv columns: track_name,artist(s)_name,artist_count,released_year,released_month,released_day,in_spotify_playlists,in_spotify_charts,streams,in_apple_playlists,in_apple_charts,in_deezer_playlists,in_deezer_charts,in_shazam_charts,bpm,key,mode,danceability_%,valence_%,energy_%,acousticness_%,instrumentalness_%,liveness_%,speechiness_%\n",
    "csv_file = 'spotify-2023.csv'\n",
    "with open(csv_file, 'r') as csv_data:\n",
    "    csv_reader = csv.DictReader(csv_data)\n",
    "    for row in csv_reader:\n",
    "        # inserting into songs table\n",
    "        cursor.execute('''\n",
    "            INSERT OR IGNORE INTO songs (song, day, month, year, streams)\n",
    "            VALUES (?, ?, ?, ?, ?)\n",
    "        ''', (row['track_name'], int(row['released_day']), int(row['released_month']), int(row['released_year']), row['streams']))\n",
    "        # inserting into charts table\n",
    "        cursor.execute('''\n",
    "            INSERT OR IGNORE INTO charts (song, spotify, apple, deezer, shazam)\n",
    "            VALUES (?, ?, ?, ?, ?)\n",
    "        ''', (row['track_name'], row['in_spotify_charts'], row['in_apple_charts'], row['in_deezer_charts'], row['in_shazam_charts']))\n",
    "        # inserting into artists_songs\n",
    "        if int(row['artist_count']) == 1:\n",
    "            cursor.execute('''\n",
    "                INSERT OR IGNORE INTO artists_songs (artist_name, song)\n",
    "                VALUES (?, ?)\n",
    "            ''', (row['artist(s)_name'], row['track_name']))\n",
    "\n",
    "conn.commit()"
   ]
  },
  {
   "cell_type": "code",
   "execution_count": 24,
   "metadata": {},
   "outputs": [],
   "source": [
    "# extracting from csv 2\n",
    "# csv info: artist,song,link,text\n",
    "csv_file2 = 'spotify_millsongdata.csv'\n",
    "with open(csv_file2, 'r') as csv_data2:\n",
    "    csv_reader2 = csv.DictReader(csv_data2)\n",
    "    for row in csv_reader2:\n",
    "        # inserting into songs table\n",
    "        cursor.execute('''\n",
    "            INSERT OR IGNORE INTO lyrics (song, lyrics)\n",
    "            VALUES (?, ?)\n",
    "        ''', (row['song'], row['text']))\n",
    "\n",
    "conn.commit()"
   ]
  },
  {
   "cell_type": "code",
   "execution_count": 2,
   "metadata": {},
   "outputs": [
    {
     "name": "stdout",
     "output_type": "stream",
     "text": [
      "301\n"
     ]
    }
   ],
   "source": [
    "# getting list of artists\n",
    "cursor.execute(\"SELECT DISTINCT artist_name FROM artists_songs\")\n",
    "artists = [row[0] for row in cursor.fetchall()]\n",
    "\n",
    "print(len(artists))"
   ]
  },
  {
   "cell_type": "code",
   "execution_count": 8,
   "metadata": {},
   "outputs": [],
   "source": [
    "# calling from api\n",
    "import requests\n",
    "\n",
    "\n",
    "# url = 'https://api.seatgeek.com/2/events?client_id=MYCLIENTID'\n",
    "client = 'NDA4Mzg3OTB8MTcxMjUwODIwOC40MzI4MDg'\n",
    "\n",
    "for artist in artists:\n",
    "    slug = artist.lower().replace(\" \", \"-\")\n",
    "    url = 'https://api.seatgeek.com/2/events?performers[primary].slug=' + slug + '&client_id=' + client\n",
    "    response = requests.get(url)\n",
    "    json_data = response.json()\n",
    "    # print(json_data)\n",
    "    if response.status_code == 200 and json_data['meta']['total'] != 0:\n",
    "        #inserting into db\n",
    "        # db info: artist_name text, event text primary key, location text, venue text, CONSTRAINT fk_artist FOREIGN KEY (artist_name) REFERENCES artist_songs(artist_name)\n",
    "        # json example: {'events': [], 'meta': {'total': 0, 'took': 2, 'page': 1, 'per_page': 10, 'geolocation': None}}\n",
    "        # events: (on seatgeek website)\n",
    "        \n",
    "        for event in json_data['events']:\n",
    "            cursor.execute('''\n",
    "            INSERT OR IGNORE INTO concerts (artist_name, event, location, venue)\n",
    "            VALUES (?, ?, ?, ?)\n",
    "        ''', (artist, event['title'], event['venue']['city'], event['venue']['name']))\n",
    "conn.commit()"
   ]
  },
  {
   "cell_type": "code",
   "execution_count": 20,
   "metadata": {},
   "outputs": [
    {
     "name": "stdout",
     "output_type": "stream",
     "text": [
      "('vampire',)\n",
      "('good 4 u',)\n",
      "('drivers license',)\n",
      "('deja vu',)\n",
      "('happier',)\n",
      "('favorite crime',)\n",
      "('jealousy, jealousy',)\n",
      "Artist: 50 Cent, Number of concerts: 1\n",
      "Artist: Adele, Number of concerts: 1\n",
      "Artist: Aerosmith, Number of concerts: 9\n",
      "Artist: Bad Bunny, Number of concerts: 1\n",
      "Artist: Beach Weather, Number of concerts: 2\n",
      "Artist: Benson Boone, Number of concerts: 2\n",
      "Artist: BoyWithUke, Number of concerts: 2\n",
      "Artist: Bruno Mars, Number of concerts: 1\n",
      "Artist: Chris Brown, Number of concerts: 2\n",
      "Artist: Cigarettes After Sex, Number of concerts: 1\n",
      "Artist: Conan Gray, Number of concerts: 1\n",
      "Artist: Drake, Number of concerts: 2\n",
      "Artist: ENHYPEN, Number of concerts: 1\n",
      "Artist: Ed Sheeran, Number of concerts: 1\n",
      "Artist: Feid, Number of concerts: 2\n",
      "Artist: Freddie Dredd, Number of concerts: 1\n",
      "Artist: Fujii Kaze, Number of concerts: 1\n",
      "Artist: Glass Animals, Number of concerts: 1\n",
      "Artist: Gunna, Number of concerts: 1\n",
      "Artist: Hozier, Number of concerts: 1\n",
      "Artist: James Arthur, Number of concerts: 2\n",
      "Artist: Jason Derulo, Number of concerts: 1\n",
      "Artist: John Legend, Number of concerts: 1\n",
      "Artist: Keane, Number of concerts: 2\n",
      "Artist: Kelly Clarkson, Number of concerts: 1\n",
      "Artist: Kodak Black, Number of concerts: 1\n",
      "Artist: Lady Gaga, Number of concerts: 1\n",
      "Artist: Libianca, Number of concerts: 1\n",
      "Artist: Lil Tjay, Number of concerts: 3\n",
      "Artist: Lil Uzi Vert, Number of concerts: 1\n",
      "Artist: Lizzy McAlpine, Number of concerts: 1\n",
      "Artist: Lord Huron, Number of concerts: 1\n",
      "Artist: Luke Combs, Number of concerts: 6\n",
      "Artist: Maluma, Number of concerts: 1\n",
      "Artist: Manuel Turizo, Number of concerts: 1\n",
      "Artist: Mariah Carey, Number of concerts: 1\n",
      "Artist: Maroon 5, Number of concerts: 1\n",
      "Artist: Meghan Trainor, Number of concerts: 1\n",
      "Artist: Melanie Martinez, Number of concerts: 2\n",
      "Artist: Metallica, Number of concerts: 3\n",
      "Artist: Morgan Wallen, Number of concerts: 8\n",
      "Artist: NLE Choppa, Number of concerts: 1\n",
      "Artist: Niall Horan, Number of concerts: 2\n",
      "Artist: Nicki Minaj, Number of concerts: 2\n",
      "Artist: Olivia Rodrigo, Number of concerts: 3\n",
      "Artist: OneRepublic, Number of concerts: 2\n",
      "Artist: Peso Pluma, Number of concerts: 3\n",
      "Artist: PinkPantheress, Number of concerts: 3\n",
      "Artist: Polo G, Number of concerts: 1\n",
      "Artist: Post Malone, Number of concerts: 1\n",
      "Artist: Ryan Castro, Number of concerts: 1\n",
      "Artist: SZA, Number of concerts: 1\n",
      "Artist: SiM, Number of concerts: 4\n",
      "Artist: Sleepy hallow, Number of concerts: 1\n",
      "Artist: Stephen Sanchez, Number of concerts: 1\n",
      "Artist: Suki Waterhouse, Number of concerts: 1\n",
      "Artist: TOMORROW X TOGETHER, Number of concerts: 1\n",
      "Artist: TV Girl, Number of concerts: 2\n",
      "Artist: Tate McRae, Number of concerts: 1\n",
      "Artist: Taylor Swift, Number of concerts: 1\n",
      "Artist: The Kid Laroi, Number of concerts: 1\n",
      "Artist: The Killers, Number of concerts: 1\n",
      "Artist: ThxSoMch, Number of concerts: 2\n",
      "Artist: Vance Joy, Number of concerts: 1\n",
      "Artist: YOASOBI, Number of concerts: 1\n",
      "Artist: Yung Gravy, Number of concerts: 2\n",
      "Artist: Zach Bryan, Number of concerts: 1\n",
      "Artist: d4vd, Number of concerts: 1\n",
      "Artist: girl in red, Number of concerts: 2\n",
      "('Olivia Rodrigo with The Breeders',)\n",
      "('Olivia Rodrigo with PinkPantheress',)\n",
      "('Olivia Rodrigo - GUTS world tour',)\n"
     ]
    }
   ],
   "source": [
    "#SQL Queries to demonstrate\n",
    "# selecting songs from a certain artist (table = artists_songs)\n",
    "artist = \"Olivia Rodrigo\"\n",
    "cursor.execute(\"SELECT song FROM artists_songs WHERE artist_name = '\"+ artist + \"';\")\n",
    "rows = cursor.fetchall() \n",
    "for row in rows:\n",
    "    print(row)\n",
    "\n",
    "# counting how many concerts each artist has\n",
    "cursor.execute(\"SELECT artist_name, COUNT() FROM concerts GROUP BY artist_name;\")\n",
    "rows = cursor.fetchall() \n",
    "for row in rows:\n",
    "    print(\"Artist: \" + row[0] + \", Number of concerts: \" + str(row[1]))\n",
    "\n",
    "# selecting all concerts where a certain song might be played\n",
    "mysong = \"vampire\"\n",
    "cursor.execute(\"SELECT event FROM concerts JOIN artists_songs ON concerts.artist_name = artists_songs.artist_name WHERE artists_songs.song = '\"+ mysong + \"';\")\n",
    "rows = cursor.fetchall() \n",
    "for row in rows:\n",
    "    print(row)\n"
   ]
  },
  {
   "cell_type": "code",
   "execution_count": 10,
   "metadata": {},
   "outputs": [],
   "source": [
    "conn.commit()\n",
    "conn.close()"
   ]
  }
 ],
 "metadata": {
  "kernelspec": {
   "display_name": "Python 3",
   "language": "python",
   "name": "python3"
  },
  "language_info": {
   "codemirror_mode": {
    "name": "ipython",
    "version": 3
   },
   "file_extension": ".py",
   "mimetype": "text/x-python",
   "name": "python",
   "nbconvert_exporter": "python",
   "pygments_lexer": "ipython3",
   "version": "3.10.6"
  }
 },
 "nbformat": 4,
 "nbformat_minor": 2
}
