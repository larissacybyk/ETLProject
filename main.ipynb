{
 "cells": [
  {
   "cell_type": "code",
   "execution_count": 1,
   "metadata": {},
   "outputs": [
    {
     "name": "stderr",
     "output_type": "stream",
     "text": [
      "C:\\Users\\l3n3c\\AppData\\Local\\Temp\\ipykernel_47876\\4056139722.py:1: DeprecationWarning: \n",
      "Pyarrow will become a required dependency of pandas in the next major release of pandas (pandas 3.0),\n",
      "(to allow more performant data types, such as the Arrow string type, and better interoperability with other libraries)\n",
      "but was not found to be installed on your system.\n",
      "If this would cause problems for you,\n",
      "please provide us feedback at https://github.com/pandas-dev/pandas/issues/54466\n",
      "        \n",
      "  import pandas as pd\n"
     ]
    }
   ],
   "source": [
    "import pandas as pd\n",
    "import csv"
   ]
  },
  {
   "cell_type": "code",
   "execution_count": 12,
   "metadata": {},
   "outputs": [],
   "source": [
    "#creation of SQLite database\n",
    "import sqlite3\n",
    "\n",
    "conn = sqlite3.connect('etl_project.db')\n",
    "cursor = conn.cursor()"
   ]
  },
  {
   "cell_type": "code",
   "execution_count": 13,
   "metadata": {},
   "outputs": [
    {
     "data": {
      "text/plain": [
       "<sqlite3.Cursor at 0x24ad4076bc0>"
      ]
     },
     "execution_count": 13,
     "metadata": {},
     "output_type": "execute_result"
    }
   ],
   "source": [
    "# creating tables\n",
    "cursor.execute(\"CREATE TABLE IF NOT EXISTS songs (song text primary key, day integer, month integer, year integer, streams integer)\")\n",
    "\n",
    "cursor.execute(\"CREATE TABLE IF NOT EXISTS artists_songs (artist_name text not null, song text primary key, CONSTRAINT fk_song FOREIGN KEY (song) REFERENCES songs(song))\")\n",
    "cursor.execute(\"CREATE TABLE IF NOT EXISTS lyrics (song text primary key, lyrics text not null, CONSTRAINT fk_song FOREIGN KEY (song) REFERENCES songs(song))\")\n",
    "cursor.execute(\"CREATE TABLE IF NOT EXISTS charts (song text primary key, spotify integer, apple integer, deezer integer, shazam integer, CONSTRAINT fk_song FOREIGN KEY (song) REFERENCES songs(song))\")\n",
    "cursor.execute(\"CREATE TABLE IF NOT EXISTS concerts (artist_name text, event text primary key, location text, venue text, CONSTRAINT fk_artist FOREIGN KEY (artist_name) REFERENCES artist_songs(artist_name))\")"
   ]
  },
  {
   "cell_type": "code",
   "execution_count": 21,
   "metadata": {},
   "outputs": [],
   "source": [
    "# extracting from csv 1\n",
    "# csv columns: track_name,artist(s)_name,artist_count,released_year,released_month,released_day,in_spotify_playlists,in_spotify_charts,streams,in_apple_playlists,in_apple_charts,in_deezer_playlists,in_deezer_charts,in_shazam_charts,bpm,key,mode,danceability_%,valence_%,energy_%,acousticness_%,instrumentalness_%,liveness_%,speechiness_%\n",
    "csv_file = 'spotify-2023.csv'\n",
    "with open(csv_file, 'r') as csv_data:\n",
    "    csv_reader = csv.DictReader(csv_data)\n",
    "    for row in csv_reader:\n",
    "        # inserting into songs table\n",
    "        cursor.execute('''\n",
    "            INSERT OR IGNORE INTO songs (song, day, month, year, streams)\n",
    "            VALUES (?, ?, ?, ?, ?)\n",
    "        ''', (row['track_name'], int(row['released_day']), int(row['released_month']), int(row['released_year']), row['streams']))\n",
    "        # inserting into charts table\n",
    "        cursor.execute('''\n",
    "            INSERT OR IGNORE INTO charts (song, spotify, apple, deezer, shazam)\n",
    "            VALUES (?, ?, ?, ?, ?)\n",
    "        ''', (row['track_name'], row['in_spotify_charts'], row['in_apple_charts'], row['in_deezer_charts'], row['in_shazam_charts']))\n",
    "        # inserting into artists_songs\n",
    "        if int(row['artist_count']) == 1:\n",
    "            cursor.execute('''\n",
    "                INSERT OR IGNORE INTO artists_songs (artist_name, song)\n",
    "                VALUES (?, ?)\n",
    "            ''', (row['artist(s)_name'], row['track_name']))\n",
    "\n",
    "conn.commit()"
   ]
  },
  {
   "cell_type": "code",
   "execution_count": 24,
   "metadata": {},
   "outputs": [],
   "source": [
    "# extracting from csv 2\n",
    "# csv info: artist,song,link,text\n",
    "csv_file2 = 'spotify_millsongdata.csv'\n",
    "with open(csv_file2, 'r') as csv_data2:\n",
    "    csv_reader2 = csv.DictReader(csv_data2)\n",
    "    for row in csv_reader2:\n",
    "        # inserting into songs table\n",
    "        cursor.execute('''\n",
    "            INSERT OR IGNORE INTO lyrics (song, lyrics)\n",
    "            VALUES (?, ?)\n",
    "        ''', (row['song'], row['text']))\n",
    "\n",
    "conn.commit()"
   ]
  },
  {
   "cell_type": "code",
   "execution_count": 26,
   "metadata": {},
   "outputs": [
    {
     "name": "stdout",
     "output_type": "stream",
     "text": [
      "{'message': 'You are not subscribed to this API.'}\n",
      "please try again.\n",
      "Please try again\n"
     ]
    },
    {
     "ename": "",
     "evalue": "",
     "output_type": "error",
     "traceback": [
      "\u001b[1;31mThe Kernel crashed while executing code in the current cell or a previous cell. \n",
      "\u001b[1;31mPlease review the code in the cell(s) to identify a possible cause of the failure. \n",
      "\u001b[1;31mClick <a href='https://aka.ms/vscodeJupyterKernelCrash'>here</a> for more info. \n",
      "\u001b[1;31mView Jupyter <a href='command:jupyter.viewOutput'>log</a> for further details."
     ]
    }
   ],
   "source": [
    "# calling from api\n",
    "import requests\n",
    "\n",
    "# api not free anymore, find new one\n",
    "# url = \"https://concerts-artists-events-tracker.p.rapidapi.com/artist\"\n",
    "\n",
    "# # getting list of artists\n",
    "# cursor.execute(\"SELECT DISTINCT artist_name FROM artists_songs\")\n",
    "# artists = [row[0] for row in cursor.fetchall()]\n",
    "\n",
    "\n",
    "# headers = {\n",
    "# \t\"X-RapidAPI-Key\": \"90bc9457f9mshb01c152d96eecadp1497eajsna4631845c1dc\",\n",
    "# \t\"X-RapidAPI-Host\": \"concerts-artists-events-tracker.p.rapidapi.com\"\n",
    "# }\n",
    "# # not allowed to make more than 10 api calls :(\n",
    "\n",
    "# # for artist in artists:\n",
    "# #     querystring = {\"name\":artist,\"page\":\"1\"}\n",
    "# #     response = requests.get(url, headers=headers, params=querystring)\n",
    "# #     json_data = response.json()\n",
    "\n",
    "# querystring = {\"name\":artists[0],\"page\":\"1\"}\n",
    "# response = requests.get(url, headers=headers, params=querystring)\n",
    "# json_data = response.json()\n",
    "\n",
    "# print(json_data)\n",
    "# if response.status_code >= 400: \n",
    "#     print(\"please try again.\")\n",
    "#     exit()\n",
    "# if response.status_code != 200:\n",
    "#     print(\"Please try again\")\n",
    "#     exit()\n",
    "\n",
    "# cap = json_data[0][\"capital\"][0]\n",
    "# pop = json_data[0][\"population\"]\n",
    "\n",
    "# data = [country.capitalize(), cap, pop]\n",
    "# df = pd.DataFrame([data], columns=[\"country\", \"capital\", \"population\"])"
   ]
  },
  {
   "cell_type": "code",
   "execution_count": 10,
   "metadata": {},
   "outputs": [],
   "source": [
    "conn.commit()\n",
    "conn.close()"
   ]
  }
 ],
 "metadata": {
  "kernelspec": {
   "display_name": "Python 3",
   "language": "python",
   "name": "python3"
  },
  "language_info": {
   "codemirror_mode": {
    "name": "ipython",
    "version": 3
   },
   "file_extension": ".py",
   "mimetype": "text/x-python",
   "name": "python",
   "nbconvert_exporter": "python",
   "pygments_lexer": "ipython3",
   "version": "3.10.6"
  }
 },
 "nbformat": 4,
 "nbformat_minor": 2
}
